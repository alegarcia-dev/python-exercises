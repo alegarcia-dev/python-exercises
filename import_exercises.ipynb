{
 "cells": [
  {
   "cell_type": "markdown",
   "id": "4af491f0",
   "metadata": {},
   "source": [
    "### 1c\n",
    "Create a jupyter notebook named import_exercises.ipynb. Use from to import the get_letter_grade \n",
    "function and give it an alias. Test this function in your notebook."
   ]
  },
  {
   "cell_type": "code",
   "execution_count": 4,
   "id": "a0daeeb6",
   "metadata": {},
   "outputs": [
    {
     "name": "stdout",
     "output_type": "stream",
     "text": [
      "Letter grade for 32: F\n",
      "Letter grade for 75: C\n",
      "Letter grade for 100: A\n"
     ]
    }
   ],
   "source": [
    "from functions import get_letter_grade as grade\n",
    "\n",
    "print(f'Letter grade for 32: {grade(32)}')\n",
    "print(f'Letter grade for 75: {grade(75)}')\n",
    "print(f'Letter grade for 100: {grade(100)}')      "
   ]
  },
  {
   "cell_type": "markdown",
   "id": "7f680625",
   "metadata": {},
   "source": [
    "# 2\n",
    "\n",
    "How many different ways can you combine the letters from \"abc\" with the numbers 1, 2, and 3?"
   ]
  },
  {
   "cell_type": "code",
   "execution_count": 6,
   "id": "27416e83",
   "metadata": {},
   "outputs": [
    {
     "name": "stdout",
     "output_type": "stream",
     "text": [
      "9\n",
      "[('a', '1'), ('a', '2'), ('a', '3'), ('b', '1'), ('b', '2'), ('b', '3'), ('c', '1'), ('c', '2'), ('c', '3')]\n"
     ]
    }
   ],
   "source": [
    "import itertools\n",
    "\n",
    "all_combinations = list(itertools.product('abc', '123'))\n",
    "print(len(all_combinations))\n",
    "print(all_combinations)"
   ]
  },
  {
   "cell_type": "markdown",
   "id": "6bf08f69",
   "metadata": {},
   "source": [
    "How many different combinations are there of 2 letters from \"abcd\"?"
   ]
  },
  {
   "cell_type": "code",
   "execution_count": 8,
   "id": "97d63378",
   "metadata": {},
   "outputs": [
    {
     "name": "stdout",
     "output_type": "stream",
     "text": [
      "6\n",
      "[('a', 'b'), ('a', 'c'), ('a', 'd'), ('b', 'c'), ('b', 'd'), ('c', 'd')]\n"
     ]
    }
   ],
   "source": [
    "two_letter_combinations = list(itertools.combinations('abcd', 2))\n",
    "print(len(two_letter_combinations))\n",
    "print(two_letter_combinations)"
   ]
  },
  {
   "cell_type": "markdown",
   "id": "f4a4a87d",
   "metadata": {},
   "source": [
    "How many different permutations are there of 2 letters from \"abcd\"?"
   ]
  },
  {
   "cell_type": "code",
   "execution_count": 9,
   "id": "cb07e52e",
   "metadata": {},
   "outputs": [
    {
     "name": "stdout",
     "output_type": "stream",
     "text": [
      "12\n",
      "[('a', 'b'), ('a', 'c'), ('a', 'd'), ('b', 'a'), ('b', 'c'), ('b', 'd'), ('c', 'a'), ('c', 'b'), ('c', 'd'), ('d', 'a'), ('d', 'b'), ('d', 'c')]\n"
     ]
    }
   ],
   "source": [
    "two_letter_permutations = list(itertools.permutations('abcd', 2))\n",
    "print(len(two_letter_permutations))\n",
    "print(two_letter_permutations)"
   ]
  },
  {
   "cell_type": "markdown",
   "id": "d71aae61",
   "metadata": {},
   "source": [
    "# 3"
   ]
  },
  {
   "cell_type": "code",
   "execution_count": 37,
   "id": "dec0b9ce",
   "metadata": {},
   "outputs": [],
   "source": [
    "import json\n",
    "from statistics import mean\n",
    "from collections import Counter\n",
    "\n",
    "users = json.load(open('profiles.json'))"
   ]
  },
  {
   "cell_type": "markdown",
   "id": "588f2fc0",
   "metadata": {},
   "source": [
    "Using the data in profiles.json, write some code that calculates and outputs the following information:\n",
    "\n",
    "- total number of users"
   ]
  },
  {
   "cell_type": "code",
   "execution_count": 11,
   "id": "597e5a60",
   "metadata": {},
   "outputs": [
    {
     "name": "stdout",
     "output_type": "stream",
     "text": [
      "19\n"
     ]
    }
   ],
   "source": [
    "print(len(users))"
   ]
  },
  {
   "cell_type": "markdown",
   "id": "0c827e39",
   "metadata": {},
   "source": [
    "- Number of active users"
   ]
  },
  {
   "cell_type": "code",
   "execution_count": 15,
   "id": "9b5f8d95",
   "metadata": {},
   "outputs": [
    {
     "name": "stdout",
     "output_type": "stream",
     "text": [
      "9\n"
     ]
    }
   ],
   "source": [
    "print(len([user for user in users if user['isActive']]))"
   ]
  },
  {
   "cell_type": "markdown",
   "id": "31b40115",
   "metadata": {},
   "source": [
    "- Number of inactive users"
   ]
  },
  {
   "cell_type": "code",
   "execution_count": 16,
   "id": "758601b9",
   "metadata": {},
   "outputs": [
    {
     "name": "stdout",
     "output_type": "stream",
     "text": [
      "10\n"
     ]
    }
   ],
   "source": [
    "print(len([user for user in users if not user['isActive']]))"
   ]
  },
  {
   "cell_type": "markdown",
   "id": "66e54e8f",
   "metadata": {},
   "source": [
    "- Grand total of balances for all users"
   ]
  },
  {
   "cell_type": "code",
   "execution_count": 25,
   "id": "668ee644",
   "metadata": {},
   "outputs": [
    {
     "name": "stdout",
     "output_type": "stream",
     "text": [
      "52667.02\n"
     ]
    }
   ],
   "source": [
    "balances = [float(user['balance'].replace(',', '').lstrip('$')) for user in users]\n",
    "\n",
    "print(sum(balances))"
   ]
  },
  {
   "cell_type": "markdown",
   "id": "5d98fcc0",
   "metadata": {},
   "source": [
    "- Average balance per user"
   ]
  },
  {
   "cell_type": "code",
   "execution_count": 27,
   "id": "cda5cefd",
   "metadata": {},
   "outputs": [
    {
     "name": "stdout",
     "output_type": "stream",
     "text": [
      "2771.95\n"
     ]
    }
   ],
   "source": [
    "print(round(mean(balances), 2))"
   ]
  },
  {
   "cell_type": "markdown",
   "id": "171eb8f9",
   "metadata": {},
   "source": [
    "- User with the lowest balance"
   ]
  },
  {
   "cell_type": "code",
   "execution_count": 32,
   "id": "0d002bd3",
   "metadata": {},
   "outputs": [
    {
     "name": "stdout",
     "output_type": "stream",
     "text": [
      "Avery Flynn $1,214.10\n"
     ]
    }
   ],
   "source": [
    "index_of_minimum_balance = balances.index(min(balances))\n",
    "print(users[index_of_minimum_balance]['name'], users[index_of_minimum_balance]['balance'])"
   ]
  },
  {
   "cell_type": "markdown",
   "id": "73d31ee0",
   "metadata": {},
   "source": [
    "- User with the highest balance"
   ]
  },
  {
   "cell_type": "code",
   "execution_count": 33,
   "id": "e927001a",
   "metadata": {},
   "outputs": [
    {
     "name": "stdout",
     "output_type": "stream",
     "text": [
      "Fay Hammond $3,919.64\n"
     ]
    }
   ],
   "source": [
    "index_of_maximum_balance = balances.index(max(balances))\n",
    "print(users[index_of_maximum_balance]['name'], users[index_of_maximum_balance]['balance'])"
   ]
  },
  {
   "cell_type": "markdown",
   "id": "7195cb92",
   "metadata": {},
   "source": [
    "- Most common favorite fruit"
   ]
  },
  {
   "cell_type": "code",
   "execution_count": 42,
   "id": "ddbb0a93",
   "metadata": {},
   "outputs": [
    {
     "name": "stdout",
     "output_type": "stream",
     "text": [
      "strawberry\n"
     ]
    }
   ],
   "source": [
    "favorite_fruit_count = Counter(user['favoriteFruit'] for user in users).most_common()\n",
    "print(favorite_fruit_count[0][0])"
   ]
  },
  {
   "cell_type": "markdown",
   "id": "19bda56a",
   "metadata": {},
   "source": [
    "- Least most common favorite fruit"
   ]
  },
  {
   "cell_type": "code",
   "execution_count": 44,
   "id": "12515845",
   "metadata": {},
   "outputs": [
    {
     "name": "stdout",
     "output_type": "stream",
     "text": [
      "apple\n"
     ]
    }
   ],
   "source": [
    "print(favorite_fruit_count[-1][0])"
   ]
  },
  {
   "cell_type": "markdown",
   "id": "81396b68",
   "metadata": {},
   "source": [
    "- Total number of unread messages for all users"
   ]
  },
  {
   "cell_type": "code",
   "execution_count": 46,
   "id": "084936ba",
   "metadata": {},
   "outputs": [
    {
     "name": "stdout",
     "output_type": "stream",
     "text": [
      "210\n"
     ]
    }
   ],
   "source": [
    "greetings = [user['greeting'].split() for user in users]\n",
    "print(sum(int(greeting[greeting.index('unread') - 1]) for greeting in greetings))"
   ]
  }
 ],
 "metadata": {
  "kernelspec": {
   "display_name": "Python 3 (ipykernel)",
   "language": "python",
   "name": "python3"
  },
  "language_info": {
   "codemirror_mode": {
    "name": "ipython",
    "version": 3
   },
   "file_extension": ".py",
   "mimetype": "text/x-python",
   "name": "python",
   "nbconvert_exporter": "python",
   "pygments_lexer": "ipython3",
   "version": "3.9.7"
  }
 },
 "nbformat": 4,
 "nbformat_minor": 5
}

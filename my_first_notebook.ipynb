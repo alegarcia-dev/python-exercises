{
 "cells": [
  {
   "cell_type": "code",
   "execution_count": 1,
   "id": "981fad40",
   "metadata": {},
   "outputs": [
    {
     "name": "stdout",
     "output_type": "stream",
     "text": [
      "hello\n"
     ]
    }
   ],
   "source": [
    "print('hello')"
   ]
  },
  {
   "cell_type": "code",
   "execution_count": 7,
   "id": "5a8d35e8",
   "metadata": {},
   "outputs": [
    {
     "name": "stdout",
     "output_type": "stream",
     "text": [
      "55 2 None 0 1 102334155\n"
     ]
    }
   ],
   "source": [
    "def fib(n: int) -> int:\n",
    "    '''\n",
    "        Determine the nth number in the fibonacci sequence\n",
    "    '''\n",
    "    \n",
    "    if n < 0:\n",
    "        return None\n",
    "    elif n == 0:\n",
    "        return 0\n",
    "    elif n == 1 or n == 2:\n",
    "        return 1\n",
    "    else:\n",
    "        return fib(n - 1) + fib(n - 2)\n",
    "    \n",
    "print(fib(10), fib(3), fib(-1), fib(0), fib(2), fib(40))"
   ]
  },
  {
   "cell_type": "code",
   "execution_count": 8,
   "id": "2fd22a17",
   "metadata": {},
   "outputs": [
    {
     "name": "stdout",
     "output_type": "stream",
     "text": [
      "Help on function fib in module __main__:\n",
      "\n",
      "fib(n: int) -> int\n",
      "    Determine the nth number in the fibonacci sequence\n",
      "\n"
     ]
    }
   ],
   "source": [
    "help(fib)"
   ]
  },
  {
   "cell_type": "code",
   "execution_count": 10,
   "id": "e48163bb",
   "metadata": {},
   "outputs": [
    {
     "name": "stdout",
     "output_type": "stream",
     "text": [
      "/Users/peanutbutterandchocolate/codeup-data-science/python-exercises\r\n"
     ]
    }
   ],
   "source": [
    "# You can execute shell commands by placing an exclamation point before the command\n",
    "!pwd"
   ]
  },
  {
   "cell_type": "code",
   "execution_count": null,
   "id": "44974c8f",
   "metadata": {},
   "outputs": [],
   "source": [
    "# Press Esc and H to open a list of shortcuts"
   ]
  },
  {
   "cell_type": "code",
   "execution_count": null,
   "id": "db07402b",
   "metadata": {},
   "outputs": [],
   "source": [
    "# Press Esc and A to insert a cell above the current one"
   ]
  },
  {
   "cell_type": "code",
   "execution_count": null,
   "id": "bc865370",
   "metadata": {},
   "outputs": [],
   "source": [
    "# Press Esc and B to insert a cell below the current one"
   ]
  },
  {
   "cell_type": "markdown",
   "id": "e02d00ff",
   "metadata": {},
   "source": [
    "# This is a markdown cell\n",
    "### Press Esc and M to change a cell to markdown"
   ]
  },
  {
   "cell_type": "code",
   "execution_count": null,
   "id": "f025719e",
   "metadata": {},
   "outputs": [],
   "source": [
    "# Press Esc and Y to change a cell to code"
   ]
  },
  {
   "cell_type": "code",
   "execution_count": null,
   "id": "15dc4583",
   "metadata": {},
   "outputs": [],
   "source": [
    "# Press Esc and L to toggle\n",
    "# line numbers\n",
    "# numbers\n",
    "# numbers"
   ]
  },
  {
   "cell_type": "code",
   "execution_count": null,
   "id": "100ceccc",
   "metadata": {},
   "outputs": [],
   "source": [
    "# Press Esc and S to save"
   ]
  },
  {
   "cell_type": "raw",
   "id": "95bc360c",
   "metadata": {},
   "source": [
    "Hold option and drag cursor to create multiple cursors.\n",
    "Hold option and drag cursor to create multiple cursors.\n",
    "Hold option and drag cursor to create multiple cursors.\n",
    "Hold option and drag cursor to create multiple cursors."
   ]
  }
 ],
 "metadata": {
  "kernelspec": {
   "display_name": "Python 3 (ipykernel)",
   "language": "python",
   "name": "python3"
  },
  "language_info": {
   "codemirror_mode": {
    "name": "ipython",
    "version": 3
   },
   "file_extension": ".py",
   "mimetype": "text/x-python",
   "name": "python",
   "nbconvert_exporter": "python",
   "pygments_lexer": "ipython3",
   "version": "3.9.7"
  }
 },
 "nbformat": 4,
 "nbformat_minor": 5
}
